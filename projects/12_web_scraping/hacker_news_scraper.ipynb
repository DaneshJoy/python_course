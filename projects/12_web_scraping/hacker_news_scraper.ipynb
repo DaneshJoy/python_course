{
 "cells": [
  {
   "cell_type": "code",
   "execution_count": 1,
   "id": "d79d4cd5-4909-427f-a460-76c47b41f591",
   "metadata": {},
   "outputs": [],
   "source": [
    "import requests\n",
    "from bs4 import BeautifulSoup\n",
    "from tqdm import tqdm\n",
    "\n",
    "target = 'bitcoin'\n",
    "res_file = 'results.csv'\n",
    "num_pages = 10\n",
    "results = []"
   ]
  },
  {
   "cell_type": "code",
   "execution_count": 48,
   "id": "79cdc243-a5aa-496c-99d4-44226aa1efed",
   "metadata": {},
   "outputs": [
    {
     "name": "stderr",
     "output_type": "stream",
     "text": [
      "100%|██████████████████████████████████████████████████████████████████████████████████| 10/10 [00:14<00:00,  1.50s/it]\n"
     ]
    }
   ],
   "source": [
    "for i in tqdm(range(1, num_pages+1)):\n",
    "#     print(f'>>> Processing page {i}')\n",
    "#     print('#', end='')\n",
    "    resp = requests.get(f'https://news.ycombinator.com/news?p={i}')\n",
    "    if resp.status_code != 200:\n",
    "        break\n",
    "    soup = BeautifulSoup(resp.content, 'html.parser')\n",
    "    links = soup.find_all('a', class_='storylink')\n",
    "\n",
    "    for link in links:\n",
    "        if target in link.text.lower():\n",
    "            _data = (link.text, link['href'])\n",
    "            results.append(_data)"
   ]
  },
  {
   "cell_type": "code",
   "execution_count": 42,
   "id": "d52fe9aa-4689-4f8a-9588-346f204425cd",
   "metadata": {},
   "outputs": [
    {
     "name": "stdout",
     "output_type": "stream",
     "text": [
      "Found 2 links\n"
     ]
    }
   ],
   "source": [
    "print(f'Found {len(results)} links')"
   ]
  },
  {
   "cell_type": "code",
   "execution_count": 43,
   "id": "87d61b70-c20d-4dcf-b994-4f4fc6ffb6c7",
   "metadata": {},
   "outputs": [
    {
     "name": "stdout",
     "output_type": "stream",
     "text": [
      "Successfully saved to results.csv\n"
     ]
    }
   ],
   "source": [
    "import pandas as pd\n",
    "\n",
    "my_data = pd.DataFrame(results, columns=['Text', 'Link'])\n",
    "\n",
    "try:\n",
    "    my_data.to_csv(res_file)\n",
    "    print(f'Successfully saved to {res_file}')\n",
    "except Exception as e:\n",
    "    print('Failed to save results')\n",
    "    print(e)\n",
    "    "
   ]
  },
  {
   "cell_type": "code",
   "execution_count": 44,
   "id": "a5835328-f461-4cba-8ac1-235a7707ce6a",
   "metadata": {},
   "outputs": [
    {
     "data": {
      "text/html": [
       "<div>\n",
       "<style scoped>\n",
       "    .dataframe tbody tr th:only-of-type {\n",
       "        vertical-align: middle;\n",
       "    }\n",
       "\n",
       "    .dataframe tbody tr th {\n",
       "        vertical-align: top;\n",
       "    }\n",
       "\n",
       "    .dataframe thead th {\n",
       "        text-align: right;\n",
       "    }\n",
       "</style>\n",
       "<table border=\"1\" class=\"dataframe\">\n",
       "  <thead>\n",
       "    <tr style=\"text-align: right;\">\n",
       "      <th></th>\n",
       "      <th>Text</th>\n",
       "      <th>Link</th>\n",
       "    </tr>\n",
       "  </thead>\n",
       "  <tbody>\n",
       "    <tr>\n",
       "      <th>0</th>\n",
       "      <td>Jack Dorsey says Square is ‘considering’ build...</td>\n",
       "      <td>https://www.engadget.com/jack-dorsey-says-squa...</td>\n",
       "    </tr>\n",
       "    <tr>\n",
       "      <th>1</th>\n",
       "      <td>Bitcoin Killed the King and Now Network Effect...</td>\n",
       "      <td>https://www.nfx.com/post/network-effects-bitcoin/</td>\n",
       "    </tr>\n",
       "  </tbody>\n",
       "</table>\n",
       "</div>"
      ],
      "text/plain": [
       "                                                Text  \\\n",
       "0  Jack Dorsey says Square is ‘considering’ build...   \n",
       "1  Bitcoin Killed the King and Now Network Effect...   \n",
       "\n",
       "                                                Link  \n",
       "0  https://www.engadget.com/jack-dorsey-says-squa...  \n",
       "1  https://www.nfx.com/post/network-effects-bitcoin/  "
      ]
     },
     "execution_count": 44,
     "metadata": {},
     "output_type": "execute_result"
    }
   ],
   "source": [
    "my_data.head()"
   ]
  }
 ],
 "metadata": {
  "kernelspec": {
   "display_name": "Python 3",
   "language": "python",
   "name": "python3"
  },
  "language_info": {
   "codemirror_mode": {
    "name": "ipython",
    "version": 3
   },
   "file_extension": ".py",
   "mimetype": "text/x-python",
   "name": "python",
   "nbconvert_exporter": "python",
   "pygments_lexer": "ipython3",
   "version": "3.8.8"
  }
 },
 "nbformat": 4,
 "nbformat_minor": 5
}
