{
 "cells": [
  {
   "cell_type": "markdown",
   "id": "ef98c8c4-1660-47d9-8909-7c6734819512",
   "metadata": {},
   "source": [
    "# CSV Processing Project"
   ]
  },
  {
   "cell_type": "code",
   "execution_count": null,
   "id": "3b642f98-57e0-4d49-a37a-a8328b0952d7",
   "metadata": {},
   "outputs": [],
   "source": [
    "import pandas as pd"
   ]
  },
  {
   "cell_type": "markdown",
   "id": "f13113f0-6074-4006-b9a8-8f2ac2ef3bd4",
   "metadata": {},
   "source": [
    "## Part 1 - Load Data"
   ]
  },
  {
   "cell_type": "code",
   "execution_count": 4,
   "id": "288ad1f7-2d1e-441e-b399-a8b1c9116096",
   "metadata": {},
   "outputs": [],
   "source": [
    "df = pd.read_csv(r'C:\\Users\\Saeed\\Desktop\\1\\hw_200.csv')\n",
    "# TODO: perform error handling"
   ]
  },
  {
   "cell_type": "code",
   "execution_count": 43,
   "id": "e193bb81-d057-4943-b564-307aa565e0e9",
   "metadata": {},
   "outputs": [],
   "source": [
    "heights = df[\"Height(Inches)\"]\n",
    "weights = df[\"Weight(Pounds)\"]"
   ]
  },
  {
   "cell_type": "markdown",
   "id": "72559905-98ab-49fd-b78f-bc732dbc0bba",
   "metadata": {},
   "source": [
    "## Part 2 - Process Data"
   ]
  },
  {
   "cell_type": "code",
   "execution_count": null,
   "id": "b65a6916-2c92-4f49-ab56-96bec2bacd0e",
   "metadata": {},
   "outputs": [],
   "source": [
    "# Convert from Imperial units to Metric units\n",
    "heights_metric = heights*2.54\n",
    "weights_metric = weights/2.205"
   ]
  },
  {
   "cell_type": "code",
   "execution_count": 36,
   "id": "a65d7969-c406-4be3-8127-cf70221fc0bf",
   "metadata": {},
   "outputs": [],
   "source": [
    "def calculate_bmi(h, w):\n",
    "    h /= 100  # h = h/100\n",
    "\n",
    "    # Mohasebeye BMI\n",
    "    bmi = w / h**2\n",
    "    bmi = round(bmi, 1)\n",
    "    return bmi"
   ]
  },
  {
   "cell_type": "code",
   "execution_count": 40,
   "id": "6c6691b3-7721-4499-b334-7a6d6ffc074f",
   "metadata": {},
   "outputs": [],
   "source": [
    "calculated_bmis = []\n",
    "for hh, ww in zip(heights_metric, weights_metric):\n",
    "    calculated_bmis.append(calculate_bmi(hh, ww))"
   ]
  },
  {
   "cell_type": "markdown",
   "id": "70f48f3b-b3f8-4138-aa3e-298aea6d5e4c",
   "metadata": {},
   "source": [
    "## Part 3 - Save Reuslts"
   ]
  },
  {
   "cell_type": "code",
   "execution_count": 68,
   "id": "135129c0-cf8f-4bfa-b491-8cc6fbf9cb9e",
   "metadata": {},
   "outputs": [],
   "source": [
    "# 1- Creade DataFrame\n",
    "result_dict = {\"Index\": df[\"Index\"],\n",
    "               \"Height\": heights_metric,\n",
    "               \"Weight\": weights_metric,\n",
    "               \"BMI\": calculated_bmis}\n",
    "\n",
    "df_out = pd.DataFrame(result_dict)"
   ]
  },
  {
   "cell_type": "code",
   "execution_count": 75,
   "id": "55b964e3-ca4d-424c-a881-fe94901aac8e",
   "metadata": {},
   "outputs": [],
   "source": [
    "# Set index column\n",
    "df_out.set_index('Index', inplace=True)"
   ]
  },
  {
   "cell_type": "code",
   "execution_count": 80,
   "id": "44a85653-8241-40d5-b2bb-adcd46b155e7",
   "metadata": {},
   "outputs": [],
   "source": [
    "# 2- Save to file\n",
    "import os\n",
    "if os.path.exists('results') == False:\n",
    "    os.mkdir('results')\n",
    "\n",
    "df_out.to_csv('results/bmi_table.csv')\n",
    "df_out.to_excel('results/bmi_table.xlsx')\n",
    "df_out.to_json('results/bmi_table.json')\n",
    "df_out.to_html('results/bmi_table.html')"
   ]
  }
 ],
 "metadata": {
  "kernelspec": {
   "display_name": "Python 3 (ipykernel)",
   "language": "python",
   "name": "python3"
  },
  "language_info": {
   "codemirror_mode": {
    "name": "ipython",
    "version": 3
   },
   "file_extension": ".py",
   "mimetype": "text/x-python",
   "name": "python",
   "nbconvert_exporter": "python",
   "pygments_lexer": "ipython3",
   "version": "3.8.12"
  }
 },
 "nbformat": 4,
 "nbformat_minor": 5
}
