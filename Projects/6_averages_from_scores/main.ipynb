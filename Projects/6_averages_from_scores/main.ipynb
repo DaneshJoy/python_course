{
 "cells": [
  {
   "cell_type": "markdown",
   "id": "f6bf9013",
   "metadata": {},
   "source": [
    "## Read Text Files in Python"
   ]
  },
  {
   "cell_type": "code",
   "execution_count": 23,
   "id": "97a7b85d",
   "metadata": {},
   "outputs": [],
   "source": [
    "import os"
   ]
  },
  {
   "cell_type": "markdown",
   "id": "97db0aba",
   "metadata": {},
   "source": [
    "with open(r\"D:\\Sharif_Python\\github\\Projects\\6_averages_from_scores\\dataset\\student1.txt\", \"r\") as f:\n",
    "    my_data = f.readlines()"
   ]
  },
  {
   "cell_type": "code",
   "execution_count": null,
   "id": "9686bc62",
   "metadata": {
    "scrolled": true
   },
   "outputs": [],
   "source": [
    "print(my_data)"
   ]
  },
  {
   "cell_type": "code",
   "execution_count": 17,
   "id": "7b831f9f",
   "metadata": {},
   "outputs": [
    {
     "name": "stdout",
     "output_type": "stream",
     "text": [
      "riazi, 10.75\n",
      "{'riazi': 10.75}\n",
      "physic, 12\n",
      "{'riazi': 10.75, 'physic': 12.0}\n",
      "shimi, 18\n",
      "{'riazi': 10.75, 'physic': 12.0, 'shimi': 18.0}\n",
      "adabiat, 19.5\n",
      "{'riazi': 10.75, 'physic': 12.0, 'shimi': 18.0, 'adabiat': 19.5}\n",
      "zaban, 17\n",
      "{'riazi': 10.75, 'physic': 12.0, 'shimi': 18.0, 'adabiat': 19.5, 'zaban': 17.0}\n",
      "varzesh, 20\n",
      "{'riazi': 10.75, 'physic': 12.0, 'shimi': 18.0, 'adabiat': 19.5, 'zaban': 17.0, 'varzesh': 20.0}\n",
      "enzebat, 18\n",
      "{'riazi': 10.75, 'physic': 12.0, 'shimi': 18.0, 'adabiat': 19.5, 'zaban': 17.0, 'varzesh': 20.0, 'enzebat': 18.0}\n"
     ]
    }
   ],
   "source": [
    "scores_dict = {}\n",
    "for line in my_data:\n",
    "    print(line.strip())\n",
    "    lesson = line.split(',')\n",
    "    scores_dict[lesson[0]] = float(lesson[1].strip())\n",
    "    print(scores_dict)"
   ]
  },
  {
   "cell_type": "code",
   "execution_count": 22,
   "id": "a29493f8",
   "metadata": {},
   "outputs": [
    {
     "name": "stdout",
     "output_type": "stream",
     "text": [
      "16.464285714285715\n"
     ]
    }
   ],
   "source": [
    "scores = scores_dict.values()\n",
    "average = sum(scores) / len(scores)\n",
    "print(average)"
   ]
  }
 ],
 "metadata": {
  "kernelspec": {
   "display_name": "Python 3",
   "language": "python",
   "name": "python3"
  },
  "language_info": {
   "codemirror_mode": {
    "name": "ipython",
    "version": 3
   },
   "file_extension": ".py",
   "mimetype": "text/x-python",
   "name": "python",
   "nbconvert_exporter": "python",
   "pygments_lexer": "ipython3",
   "version": "3.8.8"
  }
 },
 "nbformat": 4,
 "nbformat_minor": 5
}
